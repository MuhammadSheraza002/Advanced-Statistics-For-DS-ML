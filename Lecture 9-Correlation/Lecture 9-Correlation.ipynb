{
 "cells": [
  {
   "cell_type": "markdown",
   "id": "af899d53-ed6e-499e-94d5-cb495fd4cbc8",
   "metadata": {},
   "source": [
    "<h1 align='center'>Linear Correlation<h1>"
   ]
  },
  {
   "cell_type": "code",
   "execution_count": 1,
   "id": "9783f910-f4c3-4488-bbd1-f685bd8bada8",
   "metadata": {},
   "outputs": [
    {
     "data": {
      "image/png": "[encoded data removed]",
      "text/plain": [
       "<Figure size 432x288 with 1 Axes>"
      ]
     },
     "metadata": {
      "needs_background": "light"
     },
     "output_type": "display_data"
    },
    {
     "name": "stdout",
     "output_type": "stream",
     "text": [
      "Linear Correlation Coefficient: 0.95\n"
     ]
    }
   ],
   "source": [
    "import numpy as np\n",
    "import matplotlib.pyplot as plt\n",
    "\n",
    "# Generate sample data\n",
    "np.random.seed(42)\n",
    "x = np.random.rand(50) * 10  # Random x values\n",
    "y = 2 * x + 1 + np.random.randn(50) * 2  # Linear relationship with some random noise\n",
    "\n",
    "# Calculate mean of x and y\n",
    "mean_x = np.mean(x)\n",
    "mean_y = np.mean(y)\n",
    "\n",
    "# Calculate covariance and variance\n",
    "cov_xy = np.sum((x - mean_x) * (y - mean_y)) / (len(x) - 1)\n",
    "var_x = np.sum((x - mean_x)**2) / (len(x) - 1)\n",
    "var_y = np.sum((y - mean_y)**2) / (len(y) - 1)\n",
    "\n",
    "# Calculate linear correlation coefficient (Pearson correlation coefficient)\n",
    "corr_coefficient = cov_xy / np.sqrt(var_x * var_y)\n",
    "\n",
    "# Fit a line to the data\n",
    "slope = cov_xy / var_x\n",
    "intercept = mean_y - slope * mean_x\n",
    "fit_line = slope * x + intercept\n",
    "\n",
    "# Plot scatter plot and the fitted line\n",
    "plt.scatter(x, y, label='Sample Data')\n",
    "plt.plot(x, fit_line, color='red', label=f'Fitted Line (Correlation: {corr_coefficient:.2f})')\n",
    "plt.title('Scatter Plot with Fitted Line')\n",
    "plt.xlabel('X')\n",
    "plt.ylabel('Y')\n",
    "plt.legend()\n",
    "plt.show()\n",
    "\n",
    "print(f\"Linear Correlation Coefficient: {corr_coefficient:.2f}\")\n"
   ]
  },
  {
   "cell_type": "code",
   "execution_count": null,
   "id": "ee3c8435-8a0c-4f7e-8000-b18af2afb225",
   "metadata": {},
   "outputs": [],
   "source": []
  },
  {
   "cell_type": "code",
   "execution_count": null,
   "id": "474ab1fe-0ce3-445f-aa68-d6dc172cf5e1",
   "metadata": {},
   "outputs": [],
   "source": []
  },
  {
   "cell_type": "code",
   "execution_count": null,
   "id": "b56ea0d3-79b2-461c-91b2-1296d90359c2",
   "metadata": {},
   "outputs": [],
   "source": []
  },
  {
   "cell_type": "code",
   "execution_count": 3,
   "id": "0b34e075-2b06-46f1-9065-fb0fe0be5361",
   "metadata": {},
   "outputs": [
    {
     "name": "stdout",
     "output_type": "stream",
     "text": [
      "Correlation Coefficient (r): -0.22263928025832963\n",
      "P-value: 0.6313332634904246\n"
     ]
    },
    {
     "data": {
      "image/png": "[encoded data removed]",
      "text/plain": [
       "<Figure size 432x288 with 1 Axes>"
      ]
     },
     "metadata": {
      "needs_background": "light"
     },
     "output_type": "display_data"
    }
   ],
   "source": [
    "import numpy as np\n",
    "from scipy.stats import pearsonr\n",
    "import matplotlib.pyplot as plt\n",
    "\n",
    "salary = np.array([100, 14, 14, 35.2, 12, 7, 5])\n",
    "viewers = np.array([7, 4.4, 5.9, 1.6, 10.4, 9.6, 8.9])\n",
    "\n",
    "correlation_coefficient, p_value = pearsonr(salary, viewers)\n",
    "\n",
    "print(\"Correlation Coefficient (r):\", correlation_coefficient)\n",
    "\n",
    "print(\"P-value:\", p_value)\n",
    "\n",
    "plt.scatter(salary, viewers, label='Data Points')\n",
    "plt.title('Scatter Plot of Salary vs Viewers')\n",
    "plt.xlabel('Salary')\n",
    "plt.ylabel('Viewers')\n",
    "plt.legend()\n",
    "plt.show()\n"
   ]
  },
  {
   "cell_type": "code",
   "execution_count": null,
   "id": "0a8a1ed5-f4a5-4936-8589-8999af5fc979",
   "metadata": {},
   "outputs": [],
   "source": []
  },
  {
   "cell_type": "code",
   "execution_count": null,
   "id": "87f02059-310b-4db5-984d-c773c16e0608",
   "metadata": {},
   "outputs": [],
   "source": []
  },
  {
   "cell_type": "code",
   "execution_count": null,
   "id": "829b4885-b417-4e31-9f33-61249d100e37",
   "metadata": {},
   "outputs": [],
   "source": []
  },
  {
   "cell_type": "markdown",
   "id": "dbb52768-da6f-4359-88c2-c84983fdf34f",
   "metadata": {},
   "source": [
    "# Examples: Applications of correlation\n",
    "\n",
    "**Parent-Child Heights**\n",
    "\n",
    "Listed below are heights (in inches) of mothers and heights in inches of their daughters (based on data from the National Health Examination Survey). Does there appear to be a linear correlation between mother’s heights and the heights of their daughters? Use Python.\n",
    "\n",
    "| Mother’s height | Daughter’s height |\r\n",
    "|------------------|-------------------|\r\n",
    "| 63               | 58.6              |\r\n",
    "| 67               | 64.7              |\r\n",
    "| 64               | 65.3              |\r\n",
    "| 60               | 61.0              |\r\n",
    "| 65               | 65.4              |\r\n",
    "| 67               | 67.4              |\r\n",
    "| 59               | 60.9              |\r\n",
    "| 60               | 63.1              |\r\n"
   ]
  },
  {
   "cell_type": "code",
   "execution_count": null,
   "id": "992fb1e8-3f6f-4dc2-9acd-8dfbeea177ae",
   "metadata": {},
   "outputs": [],
   "source": []
  },
  {
   "cell_type": "code",
   "execution_count": 5,
   "id": "fa02cf0a-69fd-4f43-a682-a9cf76443251",
   "metadata": {},
   "outputs": [
    {
     "name": "stdout",
     "output_type": "stream",
     "text": [
      "Correlation Coefficient (r): 0.6925913297612698\n",
      "P-value: 0.0569105826665026\n"
     ]
    },
    {
     "data": {
      "image/png": "[encoded data removed]",
      "text/plain": [
       "<Figure size 432x288 with 1 Axes>"
      ]
     },
     "metadata": {
      "needs_background": "light"
     },
     "output_type": "display_data"
    }
   ],
   "source": [
    "import numpy as np\n",
    "from scipy.stats import pearsonr\n",
    "import matplotlib.pyplot as plt\n",
    "\n",
    "# Data\n",
    "mother_heights = np.array([63, 67, 64, 60, 65, 67, 59, 60])\n",
    "daughter_heights = np.array([58.6, 64.7, 65.3, 61.0, 65.4, 67.4, 60.9, 63.1])\n",
    "\n",
    "# Calculate correlation coefficient and p-value\n",
    "correlation_coefficient, p_value = pearsonr(mother_heights, daughter_heights)\n",
    "\n",
    "# Print correlation coefficient\n",
    "print(\"Correlation Coefficient (r):\", correlation_coefficient)\n",
    "\n",
    "print(\"P-value:\", p_value)\n",
    "\n",
    "# Visualize the scatter plot\n",
    "plt.scatter(mother_heights, daughter_heights, label='Data Points')\n",
    "plt.title('Scatter Plot of Mother Heights vs Daughter Heights')\n",
    "plt.xlabel('Mother Heights')\n",
    "plt.ylabel('Daughter Heights')\n",
    "plt.legend()\n",
    "plt.show()\n"
   ]
  },
  {
   "cell_type": "code",
   "execution_count": null,
   "id": "bc3b7b5c-1a81-4388-ba22-60c9dc27dd68",
   "metadata": {},
   "outputs": [],
   "source": []
  },
  {
   "cell_type": "code",
   "execution_count": null,
   "id": "5bd05ed0-783b-4929-9d38-3fbdf8ea7851",
   "metadata": {},
   "outputs": [],
   "source": []
  },
  {
   "cell_type": "code",
   "execution_count": null,
   "id": "c6b0a2c7-6589-433d-98a2-a9fb6726be64",
   "metadata": {},
   "outputs": [],
   "source": []
  },
  {
   "cell_type": "markdown",
   "id": "1a140a7a-70d7-4a35-a3fd-cbb81d5b5ed7",
   "metadata": {},
   "source": [
    "## Example 1: Body Weight vs. Height\r\n",
    "\r\n",
    "Listed below are body weights (in kilograms) and heights (in centimeters) of individuals.\r\n",
    "\r\n",
    "| Body Weight | Height |\r\n",
    "|-------------|--------|\r\n",
    "| 65          | 170    |\r\n",
    "| 72          | 182    |\r\n",
    "| 68          | 175    |\r\n",
    "| 75          | 188    |\r\n",
    "| 60          | 165    |\r\n",
    "| 82          | 177    |\r\n",
    "| 69          | 169    |\r\n",
    "| 78         18| 82          | 14          |\r\n"
   ]
  },
  {
   "cell_type": "code",
   "execution_count": null,
   "id": "caf04fd8-f7a2-4d71-9215-728758cfeeaf",
   "metadata": {},
   "outputs": [],
   "source": []
  },
  {
   "cell_type": "code",
   "execution_count": 7,
   "id": "e7f255cf-9668-479b-8ad5-1216db5d3f5e",
   "metadata": {},
   "outputs": [
    {
     "data": {
      "image/png": "[encoded data removed]",
      "text/plain": [
       "<Figure size 432x288 with 1 Axes>"
      ]
     },
     "metadata": {
      "needs_background": "light"
     },
     "output_type": "display_data"
    },
    {
     "name": "stdout",
     "output_type": "stream",
     "text": [
      "Correlation Coefficient (r): 0.7042678797757354\n"
     ]
    }
   ],
   "source": [
    "import numpy as np\n",
    "from scipy.stats import pearsonr\n",
    "import matplotlib.pyplot as plt\n",
    "\n",
    "# Data\n",
    "body_weight = np.array([65, 72, 68, 75, 60, 82, 69, 78])\n",
    "height = np.array([170, 182, 175, 188, 165, 177, 169, 180])\n",
    "\n",
    "# Calculate correlation coefficient\n",
    "correlation_coefficient, _ = pearsonr(body_weight, height)\n",
    "\n",
    "# Fit a line to the data\n",
    "slope, intercept = np.polyfit(body_weight, height, 1)\n",
    "fit_line = slope * body_weight + intercept\n",
    "\n",
    "# Visualize the scatter plot with the fitted line\n",
    "plt.scatter(body_weight, height, label='Data Points')\n",
    "plt.plot(body_weight, fit_line, color='red', label=f'Fitted Line (Correlation: {correlation_coefficient:.2f})')\n",
    "plt.title('Scatter Plot with Fitted Line (Body Weight vs. Height)')\n",
    "plt.xlabel('Body Weight (kg)')\n",
    "plt.ylabel('Height (cm)')\n",
    "plt.legend()\n",
    "plt.show()\n",
    "\n",
    "# Print correlation coefficient\n",
    "print(\"Correlation Coefficient (r):\", correlation_coefficient)\n"
   ]
  },
  {
   "cell_type": "code",
   "execution_count": null,
   "id": "25aede51-e3fb-42f8-af46-48c30b4c73b3",
   "metadata": {},
   "outputs": [],
   "source": []
  },
  {
   "cell_type": "markdown",
   "id": "fae5f81f-827b-4af2-a8cd-6c75739b8eef",
   "metadata": {},
   "source": [
    "## Example 2: Exam Scores vs. Study Hours\n",
    "\n",
    "Listed below are exam scores and study hours of students. Investigate if there is a linear correlation between exam scores and study hours.\n",
    "\n",
    "| Exam Scores | Study Hours |\n",
    "|-------------|-------------|\n",
    "| 85          | 10          |\n",
    "| 92          | 15          |\n",
    "| 78          | 8           |\n",
    "| 95          | 18          |\n",
    "| 88          | 12          |\n",
    "| 70          | 5           |\n",
    "| 96          | 20          |\n",
    "| 82          | 14          |\n"
   ]
  },
  {
   "cell_type": "code",
   "execution_count": 6,
   "id": "72b8aaa8-0960-4298-9e78-2833103f7dd7",
   "metadata": {},
   "outputs": [
    {
     "data": {
      "image/png": "[encoded data removed]",
      "text/plain": [
       "<Figure size 432x288 with 1 Axes>"
      ]
     },
     "metadata": {
      "needs_background": "light"
     },
     "output_type": "display_data"
    },
    {
     "name": "stdout",
     "output_type": "stream",
     "text": [
      "Correlation Coefficient (r): 0.9266525912918464\n"
     ]
    }
   ],
   "source": [
    "import numpy as np\n",
    "from scipy.stats import pearsonr\n",
    "import matplotlib.pyplot as plt\n",
    "\n",
    "# Data\n",
    "exam_scores = np.array([85, 92, 78, 95, 88, 70, 96, 82])\n",
    "study_hours = np.array([10, 15, 8, 18, 12, 5, 20, 14])\n",
    "\n",
    "# Calculate correlation coefficient\n",
    "correlation_coefficient, _ = pearsonr(exam_scores, study_hours)\n",
    "\n",
    "# Fit a line to the data\n",
    "slope, intercept = np.polyfit(exam_scores, study_hours, 1)\n",
    "fit_line = slope * exam_scores + intercept\n",
    "\n",
    "# Visualize the scatter plot with the fitted line\n",
    "plt.scatter(exam_scores, study_hours, label='Data Points')\n",
    "plt.plot(exam_scores, fit_line, color='red', label=f'Fitted Line (Correlation: {correlation_coefficient:.2f})')\n",
    "plt.title('Scatter Plot with Fitted Line (Exam Scores vs. Study Hours)')\n",
    "plt.xlabel('Exam Scores')\n",
    "plt.ylabel('Study Hours')\n",
    "plt.legend()\n",
    "plt.show()\n",
    "\n",
    "# Print correlation coefficient\n",
    "print(\"Correlation Coefficient (r):\", correlation_coefficient)\n"
   ]
  },
  {
   "cell_type": "code",
   "execution_count": null,
   "id": "457945de-f928-4848-ba67-586b7265762b",
   "metadata": {},
   "outputs": [],
   "source": []
  }
 ],
 "metadata": {
  "kernelspec": {
   "display_name": "Python 3 (ipykernel)",
   "language": "python",
   "name": "python3"
  },
  "language_info": {
   "codemirror_mode": {
    "name": "ipython",
    "version": 3
   },
   "file_extension": ".py",
   "mimetype": "text/x-python",
   "name": "python",
   "nbconvert_exporter": "python",
   "pygments_lexer": "ipython3",
   "version": "3.10.6"
  }
 },
 "nbformat": 4,
 "nbformat_minor": 5
}
